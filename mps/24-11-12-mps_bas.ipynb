{
 "cells": [
  {
   "cell_type": "markdown",
   "metadata": {},
   "source": [
    "# Unsupervised Generative Modeling Using Matrix Product States\n",
    "\n",
    "This notebook applies the MPS training method from the paper \"Unsupervised Generative Modeling Using Matrix Product States\" to the Bars and Stripes dataset.\n",
    "\n",
    "<ins>Unsupervised Generative Modeling Using Matrix Product States </ins>\\\n",
    "Zhao-Yu Han, Jun Wang, Heng Fan, Lei Wang, and Pan Zhang \\\n",
    "Phys. Rev. X 8, 031012 – Published 17 July 2018 \\\n",
    "[https://doi.org/10.1103/PhysRevX.8.031012](https://doi.org/10.1103/PhysRevX.8.031012)"
   ]
  },
  {
   "cell_type": "code",
   "execution_count": null,
   "metadata": {},
   "outputs": [],
   "source": [
    "%cd /workspaces/quantum-research\n",
    "import numpy as np\n",
    "import matplotlib.pyplot as plt"
   ]
  },
  {
   "cell_type": "markdown",
   "metadata": {},
   "source": [
    "## Generate BAS Dataset"
   ]
  },
  {
   "cell_type": "code",
   "execution_count": null,
   "metadata": {},
   "outputs": [],
   "source": [
    "def NumLinesStripes(a, b):\n",
    "  return pow(2,a)+pow(2,b)-2\n",
    "\n",
    "\n",
    "def LinesStripes(a, b, c):\n",
    "  arr = np.zeros(a*b)\n",
    "  c = c+1\n",
    "  if (c<pow(2,a)): #lines\n",
    "    lines = np.zeros (a, dtype = bool)\n",
    "    for i in range (a):\n",
    "      if (c%2 == 1):\n",
    "        lines[i] = True\n",
    "      c = int(c/2)\n",
    "    index = 0\n",
    "    for element in lines:\n",
    "      if element:\n",
    "        for i in range(index, index+b):\n",
    "          arr[i] = 1\n",
    "      index = index+b\n",
    "  else: #stripes\n",
    "    c = c-pow(2,a)\n",
    "    stripes = np.zeros (b, dtype = bool)\n",
    "    for i in range (b):\n",
    "      if (c%2 == 1):\n",
    "        stripes[i] = True\n",
    "      c = int(c/2)\n",
    "    index = 0\n",
    "    for element in stripes:\n",
    "      if element:\n",
    "        for i in range(index, a*b, b):\n",
    "          arr[i] = 1\n",
    "      index = index+1\n",
    "  return arr.astype(int)\n",
    "\n",
    "def PrintLinesStripes(a, b, arr):\n",
    "  index = 0\n",
    "  for i in range(a):\n",
    "    word = ''\n",
    "    for j in range (b):\n",
    "      if(arr[index] == 1):\n",
    "        word = word + 'X'\n",
    "      else:\n",
    "        word = word + '0'\n",
    "      index = index + 1\n",
    "    print(word)"
   ]
  },
  {
   "cell_type": "code",
   "execution_count": null,
   "metadata": {},
   "outputs": [],
   "source": [
    "dim = 6\n",
    "num_samples = NumLinesStripes(dim, dim)\n",
    "\n",
    "# generate bars and stripes samples\n",
    "dataset = np.zeros((num_samples, dim**2), dtype=int)\n",
    "for i in range(num_samples):\n",
    "    sample = LinesStripes(dim, dim, i)\n",
    "    dataset[i,:] = sample\n",
    "\n",
    "print(\"Dataset Shape: \", dataset.shape)"
   ]
  },
  {
   "cell_type": "markdown",
   "metadata": {},
   "source": [
    "## Run MPS on BAS dataset"
   ]
  },
  {
   "cell_type": "code",
   "execution_count": null,
   "metadata": {},
   "outputs": [],
   "source": [
    "from mps.mps import MPS\n",
    "\n",
    "m = MPS(dim**2)\n",
    "m.left_cano()\n",
    "m.designate_data(dataset)\n",
    "m.init_cumulants()\n",
    "\n",
    "m.cutoff = 5e-5\n",
    "m.descent_step_length = 0.05\n",
    "m.descent_steps = 10\n",
    "m.train(10)"
   ]
  },
  {
   "cell_type": "markdown",
   "metadata": {},
   "source": [
    "# Evaluate Loss"
   ]
  },
  {
   "cell_type": "code",
   "execution_count": null,
   "metadata": {},
   "outputs": [],
   "source": [
    "# plot loss\n",
    "loss = np.array(m.Loss)\n",
    "plt.plot(np.arange(0,len(loss)), loss)\n",
    "plt.xlabel('Iteration')\n",
    "plt.ylabel('Loss')\n",
    "plt.title('Training Loss')\n",
    "plt.show()"
   ]
  },
  {
   "cell_type": "markdown",
   "metadata": {},
   "source": [
    "# Generate Samples"
   ]
  },
  {
   "cell_type": "code",
   "execution_count": null,
   "metadata": {},
   "outputs": [],
   "source": [
    "sample = m.generate_sample_1()\n",
    "PrintLinesStripes(dim, dim, sample)"
   ]
  },
  {
   "cell_type": "code",
   "execution_count": null,
   "metadata": {},
   "outputs": [],
   "source": []
  },
  {
   "cell_type": "code",
   "execution_count": null,
   "metadata": {},
   "outputs": [],
   "source": []
  },
  {
   "cell_type": "code",
   "execution_count": null,
   "metadata": {},
   "outputs": [],
   "source": []
  }
 ],
 "metadata": {
  "kernelspec": {
   "display_name": "Python 3",
   "language": "python",
   "name": "python3"
  },
  "language_info": {
   "codemirror_mode": {
    "name": "ipython",
    "version": 3
   },
   "file_extension": ".py",
   "mimetype": "text/x-python",
   "name": "python",
   "nbconvert_exporter": "python",
   "pygments_lexer": "ipython3",
   "version": "3.11.4"
  }
 },
 "nbformat": 4,
 "nbformat_minor": 2
}
